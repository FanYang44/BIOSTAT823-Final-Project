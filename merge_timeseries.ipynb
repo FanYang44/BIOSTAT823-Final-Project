{
 "cells": [
  {
   "cell_type": "code",
   "execution_count": 1,
   "metadata": {},
   "outputs": [],
   "source": [
    "import pandas as pd\n",
    "import numpy as np"
   ]
  },
  {
   "cell_type": "code",
   "execution_count": 2,
   "metadata": {},
   "outputs": [],
   "source": [
    "confirmed_global='https://raw.githubusercontent.com/CSSEGISandData/COVID-19/master/csse_covid_19_data/csse_covid_19_time_series/time_series_covid19_confirmed_global.csv'\n",
    "death_global = 'https://raw.githubusercontent.com/CSSEGISandData/COVID-19/master/csse_covid_19_data/csse_covid_19_time_series/time_series_covid19_deaths_global.csv'\n",
    "recover_global = 'https://raw.githubusercontent.com/CSSEGISandData/COVID-19/master/csse_covid_19_data/csse_covid_19_time_series/time_series_covid19_recovered_global.csv'\n",
    "confirmed = pd.read_csv(confirmed_global)\n",
    "death = pd.read_csv(death_global)\n",
    "recover = pd.read_csv(recover_global)"
   ]
  },
  {
   "cell_type": "code",
   "execution_count": 3,
   "metadata": {},
   "outputs": [],
   "source": [
    "dates = confirmed.columns[4:]\n",
    "confirmed_df = confirmed.melt(id_vars=['Province/State', 'Country/Region', 'Lat', 'Long'], \n",
    "                              value_vars=dates, var_name='Date', value_name='Confirmed')\n",
    "deaths_df = death.melt(id_vars=['Province/State', 'Country/Region', 'Lat', 'Long'], \n",
    "                       value_vars=dates, var_name='Date', value_name='Deaths')\n",
    "recovered_df = recover.melt(id_vars=['Province/State', 'Country/Region', 'Lat', 'Long'], \n",
    "                       value_vars=dates, var_name='Date', value_name='Recovered')"
   ]
  },
  {
   "cell_type": "code",
   "execution_count": 4,
   "metadata": {},
   "outputs": [],
   "source": [
    "recovered_df = recovered_df[recovered_df['Country/Region']!='Canada']"
   ]
  },
  {
   "cell_type": "code",
   "execution_count": 5,
   "metadata": {},
   "outputs": [],
   "source": [
    "full_table = confirmed_df.merge(right=deaths_df, \n",
    "                                how='left',\n",
    "                                on=['Province/State', 'Country/Region', 'Date', 'Lat', 'Long'])\n",
    "full_table = full_table.merge(right=recovered_df, \n",
    "                              how='left',\n",
    "                              on=['Province/State', 'Country/Region', 'Date', 'Lat', 'Long'])"
   ]
  },
  {
   "cell_type": "code",
   "execution_count": 6,
   "metadata": {},
   "outputs": [],
   "source": [
    "full_table['Date'] = [d.split()[0] for d in full_table['Date']]\n",
    "full_table['Recovered'] = full_table['Recovered'].fillna(0)\n",
    "\n",
    "ship_rows = full_table['Province/State'].str.contains('Grand Princess') | full_table['Province/State'].str.contains('Diamond Princess') | full_table['Country/Region'].str.contains('Diamond Princess') | full_table['Country/Region'].str.contains('MS Zaandam')\n",
    "\n",
    "full_table = full_table[~(ship_rows)]\n",
    "\n",
    "full_table.to_csv(\"covid19_merged1108.csv\")"
   ]
  }
 ],
 "metadata": {
  "kernelspec": {
   "display_name": "Python 3",
   "language": "python",
   "name": "python3"
  },
  "language_info": {
   "codemirror_mode": {
    "name": "ipython",
    "version": 3
   },
   "file_extension": ".py",
   "mimetype": "text/x-python",
   "name": "python",
   "nbconvert_exporter": "python",
   "pygments_lexer": "ipython3",
   "version": "3.7.3"
  }
 },
 "nbformat": 4,
 "nbformat_minor": 2
}
